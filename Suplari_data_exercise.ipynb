{
 "cells": [
  {
   "cell_type": "code",
   "execution_count": 1,
   "metadata": {},
   "outputs": [
    {
     "name": "stdout",
     "output_type": "stream",
     "text": [
      "2015pcard_data (1).csv                techtrades_2016_data_input_CC (1).csv\r\n",
      "2016pcard_data (1).csv                techtrades_accounts (1).csv\r\n",
      "2017pcard_data (1).csv                techtrades_bu (1).csv\r\n",
      "Suplari_data_exercise.ipynb\r\n"
     ]
    }
   ],
   "source": [
    "!ls"
   ]
  },
  {
   "cell_type": "markdown",
   "metadata": {},
   "source": [
    "# Data preparation & cleaning\n",
    "\n",
    "In this data exercise, I will be using pandas to clean up the data and finally use seaborn and matplot to make visualizations."
   ]
  },
  {
   "cell_type": "code",
   "execution_count": 2,
   "metadata": {},
   "outputs": [],
   "source": [
    "# import necessary libralies \n",
    "import pandas as pd\n",
    "import numpy as np\n",
    "import seaborn as sns\n",
    "import matplotlib.pyplot as plt\n",
    "%matplotlib inline "
   ]
  },
  {
   "cell_type": "code",
   "execution_count": 3,
   "metadata": {},
   "outputs": [],
   "source": [
    "# import data that stored in local folder\n",
    "pcard2015_df = pd.read_csv('2015pcard_data (1).csv')\n",
    "pcard2016_df = pd.read_csv('2016pcard_data (1).csv')\n",
    "pcard2017_df = pd.read_csv('2017pcard_data (1).csv')\n",
    "\n",
    "techtrades2016_df = pd.read_csv('techtrades_2016_data_input_CC (1).csv')\n",
    "techtrades_accounts_df = pd.read_csv('techtrades_accounts (1).csv')\n",
    "techtrades_bu_df = pd.read_csv('techtrades_bu (1).csv')"
   ]
  },
  {
   "cell_type": "code",
   "execution_count": 4,
   "metadata": {},
   "outputs": [
    {
     "data": {
      "text/html": [
       "<div>\n",
       "<style scoped>\n",
       "    .dataframe tbody tr th:only-of-type {\n",
       "        vertical-align: middle;\n",
       "    }\n",
       "\n",
       "    .dataframe tbody tr th {\n",
       "        vertical-align: top;\n",
       "    }\n",
       "\n",
       "    .dataframe thead th {\n",
       "        text-align: right;\n",
       "    }\n",
       "</style>\n",
       "<table border=\"1\" class=\"dataframe\">\n",
       "  <thead>\n",
       "    <tr style=\"text-align: right;\">\n",
       "      <th></th>\n",
       "      <th>transactionid</th>\n",
       "      <th>amount</th>\n",
       "      <th>transactiondate</th>\n",
       "      <th>vendor</th>\n",
       "      <th>merchantcode</th>\n",
       "      <th>bu</th>\n",
       "      <th>account</th>\n",
       "      <th>expensetype</th>\n",
       "      <th>costcenter</th>\n",
       "    </tr>\n",
       "  </thead>\n",
       "  <tbody>\n",
       "    <tr>\n",
       "      <th>0</th>\n",
       "      <td>15pcd112</td>\n",
       "      <td>8.960</td>\n",
       "      <td>2/13/2015</td>\n",
       "      <td>76</td>\n",
       "      <td>940001</td>\n",
       "      <td>100</td>\n",
       "      <td>8740</td>\n",
       "      <td>Building Suppliles</td>\n",
       "      <td>Corporate IT</td>\n",
       "    </tr>\n",
       "    <tr>\n",
       "      <th>1</th>\n",
       "      <td>15pcd110</td>\n",
       "      <td>-3.688</td>\n",
       "      <td>2/21/2015</td>\n",
       "      <td>76</td>\n",
       "      <td>940001</td>\n",
       "      <td>100</td>\n",
       "      <td>8740</td>\n",
       "      <td>Building Suppliles</td>\n",
       "      <td>Corporate IT</td>\n",
       "    </tr>\n",
       "    <tr>\n",
       "      <th>2</th>\n",
       "      <td>15pcd113</td>\n",
       "      <td>24.008</td>\n",
       "      <td>12/2/2015</td>\n",
       "      <td>76</td>\n",
       "      <td>940001</td>\n",
       "      <td>100</td>\n",
       "      <td>8740</td>\n",
       "      <td>Building Suppliles</td>\n",
       "      <td>Corporate IT</td>\n",
       "    </tr>\n",
       "    <tr>\n",
       "      <th>3</th>\n",
       "      <td>15pcd31</td>\n",
       "      <td>20.000</td>\n",
       "      <td>2/13/2015</td>\n",
       "      <td>76</td>\n",
       "      <td>940001</td>\n",
       "      <td>100</td>\n",
       "      <td>8416</td>\n",
       "      <td>Car Rental</td>\n",
       "      <td>Corporate IT</td>\n",
       "    </tr>\n",
       "    <tr>\n",
       "      <th>4</th>\n",
       "      <td>15pcd32</td>\n",
       "      <td>15.952</td>\n",
       "      <td>2/21/2015</td>\n",
       "      <td>76</td>\n",
       "      <td>940001</td>\n",
       "      <td>100</td>\n",
       "      <td>8416</td>\n",
       "      <td>Car Rental</td>\n",
       "      <td>Corporate IT</td>\n",
       "    </tr>\n",
       "  </tbody>\n",
       "</table>\n",
       "</div>"
      ],
      "text/plain": [
       "  transactionid  amount transactiondate vendor  merchantcode   bu  account  \\\n",
       "0      15pcd112   8.960       2/13/2015     76        940001  100     8740   \n",
       "1      15pcd110  -3.688       2/21/2015     76        940001  100     8740   \n",
       "2      15pcd113  24.008       12/2/2015     76        940001  100     8740   \n",
       "3       15pcd31  20.000       2/13/2015     76        940001  100     8416   \n",
       "4       15pcd32  15.952       2/21/2015     76        940001  100     8416   \n",
       "\n",
       "          expensetype    costcenter  \n",
       "0  Building Suppliles  Corporate IT  \n",
       "1  Building Suppliles  Corporate IT  \n",
       "2  Building Suppliles  Corporate IT  \n",
       "3          Car Rental  Corporate IT  \n",
       "4          Car Rental  Corporate IT  "
      ]
     },
     "execution_count": 4,
     "metadata": {},
     "output_type": "execute_result"
    }
   ],
   "source": [
    "pcard2015_df.head()"
   ]
  },
  {
   "cell_type": "code",
   "execution_count": 5,
   "metadata": {},
   "outputs": [
    {
     "data": {
      "text/html": [
       "<div>\n",
       "<style scoped>\n",
       "    .dataframe tbody tr th:only-of-type {\n",
       "        vertical-align: middle;\n",
       "    }\n",
       "\n",
       "    .dataframe tbody tr th {\n",
       "        vertical-align: top;\n",
       "    }\n",
       "\n",
       "    .dataframe thead th {\n",
       "        text-align: right;\n",
       "    }\n",
       "</style>\n",
       "<table border=\"1\" class=\"dataframe\">\n",
       "  <thead>\n",
       "    <tr style=\"text-align: right;\">\n",
       "      <th></th>\n",
       "      <th>amount</th>\n",
       "      <th>merchantcode</th>\n",
       "      <th>bu</th>\n",
       "      <th>account</th>\n",
       "    </tr>\n",
       "  </thead>\n",
       "  <tbody>\n",
       "    <tr>\n",
       "      <th>count</th>\n",
       "      <td>189858.000000</td>\n",
       "      <td>189858.000000</td>\n",
       "      <td>189858.000000</td>\n",
       "      <td>189858.000000</td>\n",
       "    </tr>\n",
       "    <tr>\n",
       "      <th>mean</th>\n",
       "      <td>254.479514</td>\n",
       "      <td>36144.095424</td>\n",
       "      <td>107.864825</td>\n",
       "      <td>8305.946002</td>\n",
       "    </tr>\n",
       "    <tr>\n",
       "      <th>std</th>\n",
       "      <td>4622.354189</td>\n",
       "      <td>12638.152236</td>\n",
       "      <td>21.143068</td>\n",
       "      <td>577.806168</td>\n",
       "    </tr>\n",
       "    <tr>\n",
       "      <th>min</th>\n",
       "      <td>-20147.987750</td>\n",
       "      <td>15100.000000</td>\n",
       "      <td>100.000000</td>\n",
       "      <td>1500.000000</td>\n",
       "    </tr>\n",
       "    <tr>\n",
       "      <th>25%</th>\n",
       "      <td>8.281412</td>\n",
       "      <td>24572.000000</td>\n",
       "      <td>100.000000</td>\n",
       "      <td>8418.000000</td>\n",
       "    </tr>\n",
       "    <tr>\n",
       "      <th>50%</th>\n",
       "      <td>28.325358</td>\n",
       "      <td>36991.000000</td>\n",
       "      <td>100.000000</td>\n",
       "      <td>8425.000000</td>\n",
       "    </tr>\n",
       "    <tr>\n",
       "      <th>75%</th>\n",
       "      <td>107.984436</td>\n",
       "      <td>48056.000000</td>\n",
       "      <td>110.000000</td>\n",
       "      <td>8590.000000</td>\n",
       "    </tr>\n",
       "    <tr>\n",
       "      <th>max</th>\n",
       "      <td>765407.166000</td>\n",
       "      <td>54428.000000</td>\n",
       "      <td>200.000000</td>\n",
       "      <td>8740.000000</td>\n",
       "    </tr>\n",
       "  </tbody>\n",
       "</table>\n",
       "</div>"
      ],
      "text/plain": [
       "              amount   merchantcode             bu        account\n",
       "count  189858.000000  189858.000000  189858.000000  189858.000000\n",
       "mean      254.479514   36144.095424     107.864825    8305.946002\n",
       "std      4622.354189   12638.152236      21.143068     577.806168\n",
       "min    -20147.987750   15100.000000     100.000000    1500.000000\n",
       "25%         8.281412   24572.000000     100.000000    8418.000000\n",
       "50%        28.325358   36991.000000     100.000000    8425.000000\n",
       "75%       107.984436   48056.000000     110.000000    8590.000000\n",
       "max    765407.166000   54428.000000     200.000000    8740.000000"
      ]
     },
     "execution_count": 5,
     "metadata": {},
     "output_type": "execute_result"
    }
   ],
   "source": [
    "pcard2017_df.describe()"
   ]
  },
  {
   "cell_type": "code",
   "execution_count": 6,
   "metadata": {},
   "outputs": [
    {
     "data": {
      "text/html": [
       "<div>\n",
       "<style scoped>\n",
       "    .dataframe tbody tr th:only-of-type {\n",
       "        vertical-align: middle;\n",
       "    }\n",
       "\n",
       "    .dataframe tbody tr th {\n",
       "        vertical-align: top;\n",
       "    }\n",
       "\n",
       "    .dataframe thead th {\n",
       "        text-align: right;\n",
       "    }\n",
       "</style>\n",
       "<table border=\"1\" class=\"dataframe\">\n",
       "  <thead>\n",
       "    <tr style=\"text-align: right;\">\n",
       "      <th></th>\n",
       "      <th>id</th>\n",
       "      <th>name</th>\n",
       "      <th>costcenter</th>\n",
       "    </tr>\n",
       "  </thead>\n",
       "  <tbody>\n",
       "    <tr>\n",
       "      <th>0</th>\n",
       "      <td>1</td>\n",
       "      <td>Operations</td>\n",
       "      <td>Operations</td>\n",
       "    </tr>\n",
       "    <tr>\n",
       "      <th>1</th>\n",
       "      <td>2</td>\n",
       "      <td>Facilities</td>\n",
       "      <td>Facilities</td>\n",
       "    </tr>\n",
       "    <tr>\n",
       "      <th>2</th>\n",
       "      <td>3</td>\n",
       "      <td>Sales</td>\n",
       "      <td>Sales</td>\n",
       "    </tr>\n",
       "    <tr>\n",
       "      <th>3</th>\n",
       "      <td>4</td>\n",
       "      <td>Marketing</td>\n",
       "      <td>Marketing</td>\n",
       "    </tr>\n",
       "    <tr>\n",
       "      <th>4</th>\n",
       "      <td>5</td>\n",
       "      <td>Product</td>\n",
       "      <td>Product</td>\n",
       "    </tr>\n",
       "  </tbody>\n",
       "</table>\n",
       "</div>"
      ],
      "text/plain": [
       "   id        name  costcenter\n",
       "0   1  Operations  Operations\n",
       "1   2  Facilities  Facilities\n",
       "2   3       Sales       Sales\n",
       "3   4   Marketing   Marketing\n",
       "4   5     Product     Product"
      ]
     },
     "execution_count": 6,
     "metadata": {},
     "output_type": "execute_result"
    }
   ],
   "source": [
    "techtrades2016_df.head()"
   ]
  },
  {
   "cell_type": "code",
   "execution_count": 7,
   "metadata": {},
   "outputs": [
    {
     "data": {
      "text/html": [
       "<div>\n",
       "<style scoped>\n",
       "    .dataframe tbody tr th:only-of-type {\n",
       "        vertical-align: middle;\n",
       "    }\n",
       "\n",
       "    .dataframe tbody tr th {\n",
       "        vertical-align: top;\n",
       "    }\n",
       "\n",
       "    .dataframe thead th {\n",
       "        text-align: right;\n",
       "    }\n",
       "</style>\n",
       "<table border=\"1\" class=\"dataframe\">\n",
       "  <thead>\n",
       "    <tr style=\"text-align: right;\">\n",
       "      <th></th>\n",
       "      <th>accountcode</th>\n",
       "      <th>accountname</th>\n",
       "    </tr>\n",
       "  </thead>\n",
       "  <tbody>\n",
       "    <tr>\n",
       "      <th>0</th>\n",
       "      <td>1250</td>\n",
       "      <td>Employee Receivables</td>\n",
       "    </tr>\n",
       "    <tr>\n",
       "      <th>1</th>\n",
       "      <td>1500</td>\n",
       "      <td>Other Current Assets</td>\n",
       "    </tr>\n",
       "    <tr>\n",
       "      <th>2</th>\n",
       "      <td>1540</td>\n",
       "      <td>Prepaid Vendor Amounts</td>\n",
       "    </tr>\n",
       "    <tr>\n",
       "      <th>3</th>\n",
       "      <td>1590</td>\n",
       "      <td>Other Prepaid Expenses</td>\n",
       "    </tr>\n",
       "    <tr>\n",
       "      <th>4</th>\n",
       "      <td>6150</td>\n",
       "      <td>Freight Cost</td>\n",
       "    </tr>\n",
       "  </tbody>\n",
       "</table>\n",
       "</div>"
      ],
      "text/plain": [
       "   accountcode             accountname\n",
       "0         1250    Employee Receivables\n",
       "1         1500    Other Current Assets\n",
       "2         1540  Prepaid Vendor Amounts\n",
       "3         1590  Other Prepaid Expenses\n",
       "4         6150            Freight Cost"
      ]
     },
     "execution_count": 7,
     "metadata": {},
     "output_type": "execute_result"
    }
   ],
   "source": [
    "techtrades_accounts_df.head()"
   ]
  },
  {
   "cell_type": "code",
   "execution_count": 8,
   "metadata": {},
   "outputs": [
    {
     "data": {
      "text/html": [
       "<div>\n",
       "<style scoped>\n",
       "    .dataframe tbody tr th:only-of-type {\n",
       "        vertical-align: middle;\n",
       "    }\n",
       "\n",
       "    .dataframe tbody tr th {\n",
       "        vertical-align: top;\n",
       "    }\n",
       "\n",
       "    .dataframe thead th {\n",
       "        text-align: right;\n",
       "    }\n",
       "</style>\n",
       "<table border=\"1\" class=\"dataframe\">\n",
       "  <thead>\n",
       "    <tr style=\"text-align: right;\">\n",
       "      <th></th>\n",
       "      <th>buid</th>\n",
       "      <th>name</th>\n",
       "    </tr>\n",
       "  </thead>\n",
       "  <tbody>\n",
       "    <tr>\n",
       "      <th>0</th>\n",
       "      <td>100</td>\n",
       "      <td>Techtrades, Inc. (HQ)</td>\n",
       "    </tr>\n",
       "    <tr>\n",
       "      <th>1</th>\n",
       "      <td>110</td>\n",
       "      <td>Techtrades LTD (UK)</td>\n",
       "    </tr>\n",
       "    <tr>\n",
       "      <th>2</th>\n",
       "      <td>120</td>\n",
       "      <td>Techtrades NK (Japan)</td>\n",
       "    </tr>\n",
       "    <tr>\n",
       "      <th>3</th>\n",
       "      <td>200</td>\n",
       "      <td>Zeus Banking, Inc.</td>\n",
       "    </tr>\n",
       "  </tbody>\n",
       "</table>\n",
       "</div>"
      ],
      "text/plain": [
       "   buid                   name\n",
       "0   100  Techtrades, Inc. (HQ)\n",
       "1   110    Techtrades LTD (UK)\n",
       "2   120  Techtrades NK (Japan)\n",
       "3   200     Zeus Banking, Inc."
      ]
     },
     "execution_count": 8,
     "metadata": {},
     "output_type": "execute_result"
    }
   ],
   "source": [
    "techtrades_bu_df.head()"
   ]
  },
  {
   "cell_type": "code",
   "execution_count": 9,
   "metadata": {},
   "outputs": [
    {
     "name": "stdout",
     "output_type": "stream",
     "text": [
      "2015:\n",
      "transactionid      0\n",
      "amount             0\n",
      "transactiondate    0\n",
      "vendor             3\n",
      "merchantcode       0\n",
      "bu                 0\n",
      "account            0\n",
      "expensetype        0\n",
      "costcenter         0\n",
      "dtype: int64\n",
      "\n",
      "\n",
      "2016:\n",
      "transactionid      0\n",
      "amount             0\n",
      "transactiondate    0\n",
      "vendor             0\n",
      "merchantcode       0\n",
      "bu                 0\n",
      "account            0\n",
      "ExpenseType        0\n",
      "costcenter         0\n",
      "dtype: int64\n",
      "\n",
      "\n",
      "2017:\n",
      "transactionid      0\n",
      "amount             0\n",
      "transactiondate    0\n",
      "vendor             0\n",
      "merchantcode       0\n",
      "bu                 0\n",
      "account            0\n",
      "ExpenseType        0\n",
      "costcenter         0\n",
      "dtype: int64\n"
     ]
    }
   ],
   "source": [
    "# check if there are any NaN values in the data\n",
    "print('2015:')\n",
    "print(pcard2015_df.isnull().sum())\n",
    "print('\\n')\n",
    "print('2016:')\n",
    "print(pcard2016_df.isnull().sum())\n",
    "print('\\n')\n",
    "print('2017:')\n",
    "print(pcard2017_df.isnull().sum())"
   ]
  },
  {
   "cell_type": "code",
   "execution_count": 10,
   "metadata": {},
   "outputs": [
    {
     "name": "stdout",
     "output_type": "stream",
     "text": [
      "Index(['transactionid', 'amount', 'transactiondate', 'vendor', 'merchantcode',\n",
      "       'bu', 'account', 'expensetype', 'costcenter'],\n",
      "      dtype='object')\n",
      "Index(['transactionid', 'amount', 'transactiondate', 'vendor', 'merchantcode',\n",
      "       'bu', 'account', 'ExpenseType', 'costcenter'],\n",
      "      dtype='object')\n",
      "Index(['transactionid', 'amount', 'transactiondate', 'vendor', 'merchantcode',\n",
      "       'bu', 'account', 'ExpenseType', 'costcenter'],\n",
      "      dtype='object')\n",
      "(425318, 9)\n",
      "(348170, 9)\n",
      "(189858, 9)\n"
     ]
    }
   ],
   "source": [
    "# Check column names are exactly mached and check shape of each dataframe\n",
    "print(pcard2015_df.columns)\n",
    "print(pcard2016_df.columns)\n",
    "print(pcard2017_df.columns)\n",
    "\n",
    "print(pcard2015_df.shape)\n",
    "print(pcard2016_df.shape)\n",
    "print(pcard2017_df.shape)"
   ]
  },
  {
   "cell_type": "code",
   "execution_count": 11,
   "metadata": {},
   "outputs": [],
   "source": [
    "# Change the column name of expensetype to ExpenseType in pcard2016_df \n",
    "pcard2015_df.rename(columns={'expensetype': 'ExpenseType'}, inplace=True)"
   ]
  },
  {
   "cell_type": "code",
   "execution_count": 12,
   "metadata": {},
   "outputs": [],
   "source": [
    "# Simply concat dataframe\n",
    "merge = [pcard2015_df, pcard2016_df, pcard2017_df]\n",
    "merged_pcard_df = pd.concat(merge, sort=False)"
   ]
  },
  {
   "cell_type": "code",
   "execution_count": 13,
   "metadata": {},
   "outputs": [
    {
     "name": "stdout",
     "output_type": "stream",
     "text": [
      "(963346, 9)\n"
     ]
    },
    {
     "data": {
      "text/html": [
       "<div>\n",
       "<style scoped>\n",
       "    .dataframe tbody tr th:only-of-type {\n",
       "        vertical-align: middle;\n",
       "    }\n",
       "\n",
       "    .dataframe tbody tr th {\n",
       "        vertical-align: top;\n",
       "    }\n",
       "\n",
       "    .dataframe thead th {\n",
       "        text-align: right;\n",
       "    }\n",
       "</style>\n",
       "<table border=\"1\" class=\"dataframe\">\n",
       "  <thead>\n",
       "    <tr style=\"text-align: right;\">\n",
       "      <th></th>\n",
       "      <th>transactionid</th>\n",
       "      <th>amount</th>\n",
       "      <th>transactiondate</th>\n",
       "      <th>vendor</th>\n",
       "      <th>merchantcode</th>\n",
       "      <th>bu</th>\n",
       "      <th>account</th>\n",
       "      <th>ExpenseType</th>\n",
       "      <th>costcenter</th>\n",
       "    </tr>\n",
       "  </thead>\n",
       "  <tbody>\n",
       "    <tr>\n",
       "      <th>0</th>\n",
       "      <td>15pcd112</td>\n",
       "      <td>8.960</td>\n",
       "      <td>2/13/2015</td>\n",
       "      <td>76</td>\n",
       "      <td>940001</td>\n",
       "      <td>100</td>\n",
       "      <td>8740</td>\n",
       "      <td>Building Suppliles</td>\n",
       "      <td>Corporate IT</td>\n",
       "    </tr>\n",
       "    <tr>\n",
       "      <th>1</th>\n",
       "      <td>15pcd110</td>\n",
       "      <td>-3.688</td>\n",
       "      <td>2/21/2015</td>\n",
       "      <td>76</td>\n",
       "      <td>940001</td>\n",
       "      <td>100</td>\n",
       "      <td>8740</td>\n",
       "      <td>Building Suppliles</td>\n",
       "      <td>Corporate IT</td>\n",
       "    </tr>\n",
       "    <tr>\n",
       "      <th>2</th>\n",
       "      <td>15pcd113</td>\n",
       "      <td>24.008</td>\n",
       "      <td>12/2/2015</td>\n",
       "      <td>76</td>\n",
       "      <td>940001</td>\n",
       "      <td>100</td>\n",
       "      <td>8740</td>\n",
       "      <td>Building Suppliles</td>\n",
       "      <td>Corporate IT</td>\n",
       "    </tr>\n",
       "    <tr>\n",
       "      <th>3</th>\n",
       "      <td>15pcd31</td>\n",
       "      <td>20.000</td>\n",
       "      <td>2/13/2015</td>\n",
       "      <td>76</td>\n",
       "      <td>940001</td>\n",
       "      <td>100</td>\n",
       "      <td>8416</td>\n",
       "      <td>Car Rental</td>\n",
       "      <td>Corporate IT</td>\n",
       "    </tr>\n",
       "    <tr>\n",
       "      <th>4</th>\n",
       "      <td>15pcd32</td>\n",
       "      <td>15.952</td>\n",
       "      <td>2/21/2015</td>\n",
       "      <td>76</td>\n",
       "      <td>940001</td>\n",
       "      <td>100</td>\n",
       "      <td>8416</td>\n",
       "      <td>Car Rental</td>\n",
       "      <td>Corporate IT</td>\n",
       "    </tr>\n",
       "  </tbody>\n",
       "</table>\n",
       "</div>"
      ],
      "text/plain": [
       "  transactionid  amount transactiondate vendor  merchantcode   bu  account  \\\n",
       "0      15pcd112   8.960       2/13/2015     76        940001  100     8740   \n",
       "1      15pcd110  -3.688       2/21/2015     76        940001  100     8740   \n",
       "2      15pcd113  24.008       12/2/2015     76        940001  100     8740   \n",
       "3       15pcd31  20.000       2/13/2015     76        940001  100     8416   \n",
       "4       15pcd32  15.952       2/21/2015     76        940001  100     8416   \n",
       "\n",
       "          ExpenseType    costcenter  \n",
       "0  Building Suppliles  Corporate IT  \n",
       "1  Building Suppliles  Corporate IT  \n",
       "2  Building Suppliles  Corporate IT  \n",
       "3          Car Rental  Corporate IT  \n",
       "4          Car Rental  Corporate IT  "
      ]
     },
     "execution_count": 13,
     "metadata": {},
     "output_type": "execute_result"
    }
   ],
   "source": [
    "print(merged_pcard_df.shape)\n",
    "merged_pcard_df.head()"
   ]
  },
  {
   "cell_type": "code",
   "execution_count": 14,
   "metadata": {},
   "outputs": [],
   "source": [
    "# rename the column bu to buid to merge with techtrades_bu_df \n",
    "merged_pcard_df.rename(columns={'bu': 'buid'}, inplace=True)"
   ]
  },
  {
   "cell_type": "code",
   "execution_count": 15,
   "metadata": {},
   "outputs": [
    {
     "data": {
      "text/plain": [
       "(963346, 9)"
      ]
     },
     "execution_count": 15,
     "metadata": {},
     "output_type": "execute_result"
    }
   ],
   "source": [
    "merged_pcard_df.shape"
   ]
  },
  {
   "cell_type": "code",
   "execution_count": 16,
   "metadata": {},
   "outputs": [
    {
     "name": "stdout",
     "output_type": "stream",
     "text": [
      "4\n"
     ]
    },
    {
     "data": {
      "text/plain": [
       "(963346, 10)"
      ]
     },
     "execution_count": 16,
     "metadata": {},
     "output_type": "execute_result"
    }
   ],
   "source": [
    "df = pd.merge(merged_pcard_df, techtrades_bu_df)\n",
    "# Check the number of name and shape of the df\n",
    "print(df.name.nunique())\n",
    "df.shape"
   ]
  },
  {
   "cell_type": "code",
   "execution_count": 32,
   "metadata": {},
   "outputs": [
    {
     "data": {
      "text/plain": [
       "0"
      ]
     },
     "execution_count": 32,
     "metadata": {},
     "output_type": "execute_result"
    }
   ],
   "source": [
    "# check duplicates in transactionid\n",
    "df['transactionid'].duplicated().sum()"
   ]
  },
  {
   "cell_type": "markdown",
   "metadata": {},
   "source": [
    "## 1. What are the top 10 suppliers for 2017 and how much is spent on each supplier?"
   ]
  },
  {
   "cell_type": "code",
   "execution_count": 17,
   "metadata": {},
   "outputs": [],
   "source": [
    "# Use transactiondate to create new datetime and set index \n",
    "df['index_date'] = pd.to_datetime(df['transactiondate'])\n",
    "\n",
    "df.set_index('index_date', inplace=True)"
   ]
  },
  {
   "cell_type": "code",
   "execution_count": 18,
   "metadata": {},
   "outputs": [
    {
     "name": "stdout",
     "output_type": "stream",
     "text": [
      "Top 10 suppliers spending for 2017:\n",
      "vendor\n",
      "IBM                       $4.95MM\n",
      "CDW Direct                $4.09MM\n",
      "Apple, Inc.               $2.42MM\n",
      "Microsoft Corporation     $2.27MM\n",
      "SMART IMS, INC            $1.95MM\n",
      "CENTURYLINK               $1.86MM\n",
      "Amazon AWS                 $1.8MM\n",
      "Oracle, Inc.              $1.53MM\n",
      "DataArt Solutions, Inc    $1.41MM\n",
      "SALESFORCE.COM, INC.       $1.4MM\n",
      "Name: amount, dtype: object\n"
     ]
    }
   ],
   "source": [
    "# Taking transactioned in 2017 and group by vendor\n",
    "df_2017 = df['2017'].groupby(['vendor'])\n",
    "# Sum amount\n",
    "sum_df_2017 = df_2017['amount'].sum()\n",
    "# Sort values decending order and take top 10 then convert numbers into currency ($) in millions.\n",
    "top10_supplier_2017 = sum_df_2017.sort_values(ascending=False)[:10]/1000000\n",
    "\n",
    "print('Top 10 suppliers spending for 2017:')\n",
    "print('$'+top10_supplier_2017.round(2).astype(str) + \"MM\")"
   ]
  },
  {
   "cell_type": "code",
   "execution_count": 19,
   "metadata": {},
   "outputs": [
    {
     "data": {
      "image/png": "[encoded data removed]",
      "text/plain": [
       "<Figure size 504x504 with 1 Axes>"
      ]
     },
     "metadata": {
      "needs_background": "light"
     },
     "output_type": "display_data"
    }
   ],
   "source": [
    "# Visualization by making bar graph on top 10 suppliers and total amount they spent on 2017.\n",
    "top10_supplier_2017.plot.barh(figsize = (7, 7))\n",
    "plt.xlabel('Total Amount (millions)')\n",
    "plt.title('Top 10 suppliers spending for 2017');"
   ]
  },
  {
   "cell_type": "markdown",
   "metadata": {},
   "source": [
    "## 2. Which business unit was the top spender so far in 2017?"
   ]
  },
  {
   "cell_type": "code",
   "execution_count": 20,
   "metadata": {},
   "outputs": [
    {
     "name": "stdout",
     "output_type": "stream",
     "text": [
      "Top business unit spender:\n",
      "buid\n",
      "100    $116.56MM\n",
      "110     $79.58MM\n",
      "120      $13.7MM\n",
      "200     $11.53MM\n",
      "Name: amount, dtype: object\n"
     ]
    }
   ],
   "source": [
    "# Group by 'buid'\n",
    "buid_df = df.groupby(['buid'])\n",
    "# Sum amount\n",
    "sum_buid_df = buid_df['amount'].sum()\n",
    "# Sort values decending order and convert numbers into currency ($) in millions.\n",
    "top_buid_2017 = sum_buid_df.sort_values(ascending=False)[:10]/1000000\n",
    "\n",
    "print('Top business unit spender:')\n",
    "print('$'+top_buid_2017.round(2).astype(str) + \"MM\")\n"
   ]
  },
  {
   "cell_type": "code",
   "execution_count": 21,
   "metadata": {},
   "outputs": [
    {
     "name": "stdout",
     "output_type": "stream",
     "text": [
      "Top business unit spender (2015-2017):\n",
      "name\n",
      "Techtrades, Inc. (HQ)    $116.56MM\n",
      "Techtrades LTD (UK)       $79.58MM\n",
      "Techtrades NK (Japan)      $13.7MM\n",
      "Zeus Banking, Inc.        $11.53MM\n",
      "Name: amount, dtype: object\n"
     ]
    },
    {
     "data": {
      "image/png": "[encoded data removed]",
      "text/plain": [
       "<Figure size 288x216 with 1 Axes>"
      ]
     },
     "metadata": {
      "needs_background": "light"
     },
     "output_type": "display_data"
    }
   ],
   "source": [
    "# Group by the name of the business unit and plot by the amount of each business unit have spent\n",
    "print('Top business unit spender (2015-2017):')\n",
    "print(\"$\"+(df.groupby(['name'])['amount'].sum().sort_values(ascending=False)[:10]/1000000).round(2).astype(str)+'MM')\n",
    "(df.groupby(['name'])['amount'].sum().sort_values(ascending=False)[:10]/1000000).plot.barh(figsize = (4, 3))\n",
    "plt.xlabel('Total Amount (millions)')\n",
    "plt.title('Top business unit spender');"
   ]
  },
  {
   "cell_type": "markdown",
   "metadata": {},
   "source": [
    "## 3. Compare the top 10 suppliers in 2017 to the top suppliers in 2016"
   ]
  },
  {
   "cell_type": "code",
   "execution_count": 22,
   "metadata": {},
   "outputs": [
    {
     "name": "stdout",
     "output_type": "stream",
     "text": [
      "Top 10 suppliers in 2016:\n",
      "Total transaction recorded: 68221\n",
      "Total Amount: $34.54MM\n",
      "vendor\n",
      "IBM                              $7.9MM\n",
      "CDW Direct                      $5.18MM\n",
      "Oracle, Inc.                    $3.89MM\n",
      "SALESFORCE.COM, INC.            $3.73MM\n",
      "Apple, Inc.                     $3.19MM\n",
      "DataArt Solutions, Inc          $2.54MM\n",
      "SMART IMS, INC                  $2.37MM\n",
      "Amazon AWS                      $2.15MM\n",
      "OFFICE DEPOT                    $1.87MM\n",
      "Oxford Health Insurance, Inc    $1.73MM\n",
      "Name: amount, dtype: object\n",
      "\n",
      "\n",
      "Top 10 suppliers in 2017:\n",
      "Total transaction recorded: 34548\n",
      "Total Amount: $23.66MM\n",
      "vendor\n",
      "IBM                       $4.95MM\n",
      "CDW Direct                $4.09MM\n",
      "Apple, Inc.               $2.42MM\n",
      "Microsoft Corporation     $2.27MM\n",
      "SMART IMS, INC            $1.95MM\n",
      "CENTURYLINK               $1.86MM\n",
      "Amazon AWS                 $1.8MM\n",
      "Oracle, Inc.              $1.53MM\n",
      "DataArt Solutions, Inc    $1.41MM\n",
      "SALESFORCE.COM, INC.       $1.4MM\n",
      "Name: amount, dtype: object\n"
     ]
    }
   ],
   "source": [
    "top10_2016_df = df.loc[df['vendor'].isin([\n",
    "    'SALESFORCE.COM, INC.', 'DataArt Solutions, Inc', 'Oracle, Inc.', 'Amazon AWS', 'SMART IMS, INC', \n",
    "    'OFFICE DEPOT', 'Oxford Health Insurance, Inc', 'Apple, Inc.', 'CDW Direct', 'IBM'])]\n",
    "top10_2016_df = top10_2016_df['2016']\n",
    "\n",
    "top10_2017_df = df.loc[df['vendor'].isin([\n",
    "    'SALESFORCE.COM, INC.', 'DataArt Solutions, Inc', 'Oracle, Inc.', 'Amazon AWS', 'SMART IMS, INC', \n",
    "    'CENTURYLINK', 'Microsoft Corporation', 'Apple, Inc.', 'CDW Direct', 'IBM'])]\n",
    "top10_2017_df = top10_2017_df['2017']\n",
    "\n",
    "print('Top 10 suppliers in 2016:')\n",
    "print('Total transaction recorded:', len(top10_2016_df))\n",
    "print('Total Amount:', f\"${round(top10_2016_df.amount.sum()/1000000, 2)}MM\")\n",
    "print(\"$\"+(df['2016'].groupby(['vendor'])['amount'].sum().sort_values(ascending=False)[:10]\n",
    "           /1000000).round(2).astype(str)+'MM')\n",
    "\n",
    "print('\\n')\n",
    "print('Top 10 suppliers in 2017:')\n",
    "print('Total transaction recorded:', len(top10_2017_df))\n",
    "print('Total Amount:', f\"${round(top10_2017_df.amount.sum()/1000000, 2)}MM\")\n",
    "print(\"$\"+(df['2017'].groupby(['vendor'])['amount'].sum().sort_values(ascending=False)[:10]\n",
    "           /1000000).round(2).astype(str)+'MM')"
   ]
  },
  {
   "cell_type": "markdown",
   "metadata": {},
   "source": [
    "### 2016 & 2017 Visualization"
   ]
  },
  {
   "cell_type": "code",
   "execution_count": 23,
   "metadata": {
    "scrolled": true
   },
   "outputs": [
    {
     "data": {
      "image/png": "[encoded data removed]",
      "text/plain": [
       "<Figure size 360x288 with 1 Axes>"
      ]
     },
     "metadata": {
      "needs_background": "light"
     },
     "output_type": "display_data"
    }
   ],
   "source": [
    "(df['2016'].groupby(['vendor'])['amount'].sum().sort_values(ascending=False)[:10]/1000000).plot.barh(figsize = (5, 4))\n",
    "plt.xlabel('Total Amount (millions)')\n",
    "plt.title('Top 10 supplier in 2016');"
   ]
  },
  {
   "cell_type": "code",
   "execution_count": 24,
   "metadata": {},
   "outputs": [
    {
     "data": {
      "image/png": "[encoded data removed]",
      "text/plain": [
       "<Figure size 360x288 with 1 Axes>"
      ]
     },
     "metadata": {
      "needs_background": "light"
     },
     "output_type": "display_data"
    }
   ],
   "source": [
    "(df['2017'].groupby(['vendor'])['amount'].sum().sort_values(ascending=False)[:10]/1000000).plot.barh(figsize = (5, 4))\n",
    "plt.xlabel('Total Amount (millions)')\n",
    "plt.title('Top 10 supplier spender in 2017');"
   ]
  },
  {
   "cell_type": "markdown",
   "metadata": {},
   "source": [
    "## 4. How many transactions were recorded for 2015, 2016, and 2017?"
   ]
  },
  {
   "cell_type": "code",
   "execution_count": 25,
   "metadata": {},
   "outputs": [
    {
     "name": "stdout",
     "output_type": "stream",
     "text": [
      "Total transaction in 2015: 401455\n",
      "Total transaction in 2016: 350276\n",
      "Total transaction in 2017: 211615\n"
     ]
    }
   ],
   "source": [
    "print('Total transaction in 2015:',len(df['2015']))\n",
    "print('Total transaction in 2016:',len(df['2016']))\n",
    "print('Total transaction in 2017:',len(df['2017']))"
   ]
  },
  {
   "cell_type": "code",
   "execution_count": null,
   "metadata": {},
   "outputs": [],
   "source": []
  }
 ],
 "metadata": {
  "kernelspec": {
   "display_name": "Python 3",
   "language": "python",
   "name": "python3"
  },
  "language_info": {
   "codemirror_mode": {
    "name": "ipython",
    "version": 3
   },
   "file_extension": ".py",
   "mimetype": "text/x-python",
   "name": "python",
   "nbconvert_exporter": "python",
   "pygments_lexer": "ipython3",
   "version": "3.7.0"
  }
 },
 "nbformat": 4,
 "nbformat_minor": 2
}
